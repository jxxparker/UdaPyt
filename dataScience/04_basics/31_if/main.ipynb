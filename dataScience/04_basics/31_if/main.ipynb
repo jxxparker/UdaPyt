{
 "cells": [
  {
   "cell_type": "code",
   "execution_count": 1,
   "id": "3ad49623",
   "metadata": {},
   "outputs": [
    {
     "name": "stdout",
     "output_type": "stream",
     "text": [
      "HOO\n"
     ]
    }
   ],
   "source": [
    "if 5 == 15/3:\n",
    "    print('HOO')"
   ]
  },
  {
   "cell_type": "code",
   "execution_count": 2,
   "id": "ef89f632",
   "metadata": {},
   "outputs": [],
   "source": [
    "if 5 == 15/4:\n",
    "    print(\"no\")"
   ]
  },
  {
   "cell_type": "code",
   "execution_count": null,
   "id": "61894b54",
   "metadata": {},
   "outputs": [],
   "source": []
  }
 ],
 "metadata": {
  "kernelspec": {
   "display_name": "Python 3 (ipykernel)",
   "language": "python",
   "name": "python3"
  },
  "language_info": {
   "codemirror_mode": {
    "name": "ipython",
    "version": 3
   },
   "file_extension": ".py",
   "mimetype": "text/x-python",
   "name": "python",
   "nbconvert_exporter": "python",
   "pygments_lexer": "ipython3",
   "version": "3.9.7"
  }
 },
 "nbformat": 4,
 "nbformat_minor": 5
}
